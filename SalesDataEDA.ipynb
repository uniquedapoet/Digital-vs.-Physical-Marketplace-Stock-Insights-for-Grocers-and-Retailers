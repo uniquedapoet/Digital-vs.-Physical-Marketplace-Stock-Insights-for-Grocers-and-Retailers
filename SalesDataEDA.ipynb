{
 "cells": [
  {
   "cell_type": "code",
   "execution_count": 24,
   "metadata": {},
   "outputs": [],
   "source": [
    "import pandas as pd\n",
    "\n",
    "product_ids = pd.read_csv('data/Amazon/amazon_categories.csv')\n",
    "amazon_products = pd.read_csv('data/Amazon/amazon_products.csv')\n",
    "amazon_values = pd.read_csv('data/Amazon/amazon_listing_category_counts.csv')\n",
    "\n",
    "walmart_products = pd.read_csv('data/Walmart/walmart_products.csv')\n"
   ]
  },
  {
   "cell_type": "code",
   "execution_count": 22,
   "metadata": {},
   "outputs": [
    {
     "data": {
      "text/html": [
       "<div>\n",
       "<style scoped>\n",
       "    .dataframe tbody tr th:only-of-type {\n",
       "        vertical-align: middle;\n",
       "    }\n",
       "\n",
       "    .dataframe tbody tr th {\n",
       "        vertical-align: top;\n",
       "    }\n",
       "\n",
       "    .dataframe thead th {\n",
       "        text-align: right;\n",
       "    }\n",
       "</style>\n",
       "<table border=\"1\" class=\"dataframe\">\n",
       "  <thead>\n",
       "    <tr style=\"text-align: right;\">\n",
       "      <th></th>\n",
       "      <th>Categories</th>\n",
       "      <th>Count</th>\n",
       "    </tr>\n",
       "  </thead>\n",
       "  <tbody>\n",
       "    <tr>\n",
       "      <th>0</th>\n",
       "      <td>Girls' Clothing</td>\n",
       "      <td>28619</td>\n",
       "    </tr>\n",
       "    <tr>\n",
       "      <th>1</th>\n",
       "      <td>Boys' Clothing</td>\n",
       "      <td>24660</td>\n",
       "    </tr>\n",
       "    <tr>\n",
       "      <th>2</th>\n",
       "      <td>Toys &amp; Games</td>\n",
       "      <td>20846</td>\n",
       "    </tr>\n",
       "    <tr>\n",
       "      <th>3</th>\n",
       "      <td>Men's Shoes</td>\n",
       "      <td>19822</td>\n",
       "    </tr>\n",
       "    <tr>\n",
       "      <th>4</th>\n",
       "      <td>Women's Handbags</td>\n",
       "      <td>18994</td>\n",
       "    </tr>\n",
       "    <tr>\n",
       "      <th>...</th>\n",
       "      <td>...</td>\n",
       "      <td>...</td>\n",
       "    </tr>\n",
       "    <tr>\n",
       "      <th>243</th>\n",
       "      <td>Smart Home: Lawn and Garden</td>\n",
       "      <td>76</td>\n",
       "    </tr>\n",
       "    <tr>\n",
       "      <th>244</th>\n",
       "      <td>Smart Home: Voice Assistants and Hubs</td>\n",
       "      <td>50</td>\n",
       "    </tr>\n",
       "    <tr>\n",
       "      <th>245</th>\n",
       "      <td>Smart Home: New Smart Devices</td>\n",
       "      <td>42</td>\n",
       "    </tr>\n",
       "    <tr>\n",
       "      <th>246</th>\n",
       "      <td>Garment Bags</td>\n",
       "      <td>40</td>\n",
       "    </tr>\n",
       "    <tr>\n",
       "      <th>247</th>\n",
       "      <td>Smart Home Thermostats - Compatibility Checker</td>\n",
       "      <td>22</td>\n",
       "    </tr>\n",
       "  </tbody>\n",
       "</table>\n",
       "<p>248 rows × 2 columns</p>\n",
       "</div>"
      ],
      "text/plain": [
       "                                         Categories  Count\n",
       "0                                   Girls' Clothing  28619\n",
       "1                                    Boys' Clothing  24660\n",
       "2                                      Toys & Games  20846\n",
       "3                                       Men's Shoes  19822\n",
       "4                                  Women's Handbags  18994\n",
       "..                                              ...    ...\n",
       "243                     Smart Home: Lawn and Garden     76\n",
       "244           Smart Home: Voice Assistants and Hubs     50\n",
       "245                   Smart Home: New Smart Devices     42\n",
       "246                                    Garment Bags     40\n",
       "247  Smart Home Thermostats - Compatibility Checker     22\n",
       "\n",
       "[248 rows x 2 columns]"
      ]
     },
     "execution_count": 22,
     "metadata": {},
     "output_type": "execute_result"
    }
   ],
   "source": [
    "amazon_values"
   ]
  },
  {
   "cell_type": "code",
   "execution_count": 37,
   "metadata": {},
   "outputs": [],
   "source": [
    "walmart_products['Category Filtered'] = walmart_products['Category'].apply(lambda x: x.split(' | ')[0] if isinstance(x, str) else x)"
   ]
  },
  {
   "cell_type": "code",
   "execution_count": 38,
   "metadata": {},
   "outputs": [],
   "source": [
    "walmart_values = walmart_products['Category Filtered'].value_counts()"
   ]
  },
  {
   "cell_type": "code",
   "execution_count": 42,
   "metadata": {},
   "outputs": [],
   "source": [
    "treemap_data = walmart_products[['Sale Price','Category Filtered']].groupby('Category Filtered').agg(['sum', 'count']).reset_index()"
   ]
  },
  {
   "cell_type": "code",
   "execution_count": 48,
   "metadata": {},
   "outputs": [],
   "source": [
    "treemap_data.columns = ['Category', 'Sum Sales', 'Count']\n",
    "treemap_data.sort_values('Count', ascending=False).to_csv('data/Walmart/walmart_listing_category_counts.csv', index=False)"
   ]
  },
  {
   "cell_type": "code",
   "execution_count": null,
   "metadata": {},
   "outputs": [],
   "source": []
  }
 ],
 "metadata": {
  "kernelspec": {
   "display_name": "Python 3",
   "language": "python",
   "name": "python3"
  },
  "language_info": {
   "codemirror_mode": {
    "name": "ipython",
    "version": 3
   },
   "file_extension": ".py",
   "mimetype": "text/x-python",
   "name": "python",
   "nbconvert_exporter": "python",
   "pygments_lexer": "ipython3",
   "version": "3.12.6"
  }
 },
 "nbformat": 4,
 "nbformat_minor": 2
}
