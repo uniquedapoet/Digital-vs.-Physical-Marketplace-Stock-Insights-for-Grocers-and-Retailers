{
 "cells": [
  {
   "cell_type": "markdown",
   "metadata": {},
   "source": [
    "## Idea for linked interactive charts.\n",
    "- Treemap with categories and Bar chart initailizing with same data\n",
    "    - The treemap will allow you to select a category which will change the bar chart to show the product sales within that category (i.e. Electronics Selected, shows Sales for Tvs, Games, Monitors)\n",
    "\n",
    "- Treemap with b"
   ]
  },
  {
   "cell_type": "code",
   "execution_count": 114,
   "metadata": {},
   "outputs": [],
   "source": [
    "import pandas as pd\n",
    "\n",
    "product_ids = pd.read_csv('data/Amazon/amazon_categories.csv')\n",
    "amazon_products = pd.read_csv('data/Amazon/amazon_products.csv')\n",
    "amazon_values = pd.read_csv('data/Amazon/amazon_listing_category_counts.csv')\n",
    "\n",
    "walmart_products = pd.read_csv('data/Walmart/walmart_products.csv')\n"
   ]
  },
  {
   "cell_type": "code",
   "execution_count": 115,
   "metadata": {},
   "outputs": [],
   "source": [
    "walmart_products['Category Filtered'] = walmart_products['Category'].apply(lambda x: x.split(' | ')[0] if isinstance(x, str) else x)"
   ]
  },
  {
   "cell_type": "code",
   "execution_count": 118,
   "metadata": {},
   "outputs": [],
   "source": [
    "walmart_values = walmart_products['Category Filtered'].value_counts()"
   ]
  },
  {
   "cell_type": "code",
   "execution_count": 93,
   "metadata": {},
   "outputs": [],
   "source": [
    "treemap_data = walmart_products[['Sale Price','Category Filtered']].groupby('Category Filtered').agg(['sum', 'count']).reset_index()"
   ]
  },
  {
   "cell_type": "code",
   "execution_count": 94,
   "metadata": {},
   "outputs": [],
   "source": [
    "treemap_data.columns = ['Category', 'Sum Sales', 'Count']\n",
    "treemap_data.sort_values('Count', ascending=False).to_csv('data/Walmart/walmart_listing_category_counts.csv', index=False)"
   ]
  },
  {
   "cell_type": "code",
   "execution_count": 95,
   "metadata": {},
   "outputs": [],
   "source": [
    "category_ids = pd.read_csv('data/Amazon/amazon_categories.csv')\n",
    "amazon_products = amazon_products.merge(category_ids, on='category_id', how='left')\n",
    "amazon_products['Category'] = amazon_products['category_name']"
   ]
  },
  {
   "cell_type": "code",
   "execution_count": 105,
   "metadata": {},
   "outputs": [],
   "source": [
    "amazon_products['Sum Sales'] = amazon_products['price'] * amazon_products['boughtInLastMonth']\n",
    "amazon_products['Count'] = amazon_products['boughtInLastMonth']"
   ]
  },
  {
   "cell_type": "code",
   "execution_count": 106,
   "metadata": {},
   "outputs": [],
   "source": [
    "amazon_treemap = amazon_products[['Category', 'Sum Sales', 'Count']].groupby('Category').agg(['sum']).reset_index()"
   ]
  },
  {
   "cell_type": "code",
   "execution_count": 110,
   "metadata": {},
   "outputs": [
    {
     "data": {
      "text/html": [
       "<div>\n",
       "<style scoped>\n",
       "    .dataframe tbody tr th:only-of-type {\n",
       "        vertical-align: middle;\n",
       "    }\n",
       "\n",
       "    .dataframe tbody tr th {\n",
       "        vertical-align: top;\n",
       "    }\n",
       "\n",
       "    .dataframe thead th {\n",
       "        text-align: right;\n",
       "    }\n",
       "</style>\n",
       "<table border=\"1\" class=\"dataframe\">\n",
       "  <thead>\n",
       "    <tr style=\"text-align: right;\">\n",
       "      <th></th>\n",
       "      <th>Category</th>\n",
       "      <th>Sum Sales</th>\n",
       "      <th>Count</th>\n",
       "    </tr>\n",
       "  </thead>\n",
       "  <tbody>\n",
       "    <tr>\n",
       "      <th>0</th>\n",
       "      <td>Abrasive &amp; Finishing Products</td>\n",
       "      <td>2473551.5</td>\n",
       "      <td>160300</td>\n",
       "    </tr>\n",
       "    <tr>\n",
       "      <th>1</th>\n",
       "      <td>Accessories &amp; Supplies</td>\n",
       "      <td>28835010.0</td>\n",
       "      <td>832100</td>\n",
       "    </tr>\n",
       "    <tr>\n",
       "      <th>2</th>\n",
       "      <td>Additive Manufacturing Products</td>\n",
       "      <td>4006343.5</td>\n",
       "      <td>94100</td>\n",
       "    </tr>\n",
       "    <tr>\n",
       "      <th>3</th>\n",
       "      <td>Arts &amp; Crafts Supplies</td>\n",
       "      <td>17620588.5</td>\n",
       "      <td>1346550</td>\n",
       "    </tr>\n",
       "    <tr>\n",
       "      <th>4</th>\n",
       "      <td>Arts, Crafts &amp; Sewing Storage</td>\n",
       "      <td>3305590.5</td>\n",
       "      <td>197550</td>\n",
       "    </tr>\n",
       "    <tr>\n",
       "      <th>...</th>\n",
       "      <td>...</td>\n",
       "      <td>...</td>\n",
       "      <td>...</td>\n",
       "    </tr>\n",
       "    <tr>\n",
       "      <th>243</th>\n",
       "      <td>Women's Watches</td>\n",
       "      <td>2323568.0</td>\n",
       "      <td>68700</td>\n",
       "    </tr>\n",
       "    <tr>\n",
       "      <th>244</th>\n",
       "      <td>Xbox 360 Games, Consoles &amp; Accessories</td>\n",
       "      <td>538222.0</td>\n",
       "      <td>15400</td>\n",
       "    </tr>\n",
       "    <tr>\n",
       "      <th>245</th>\n",
       "      <td>Xbox One Games, Consoles &amp; Accessories</td>\n",
       "      <td>2068048.5</td>\n",
       "      <td>35900</td>\n",
       "    </tr>\n",
       "    <tr>\n",
       "      <th>246</th>\n",
       "      <td>Xbox Series X &amp; S Consoles, Games &amp; Accessories</td>\n",
       "      <td>2486545.0</td>\n",
       "      <td>42300</td>\n",
       "    </tr>\n",
       "    <tr>\n",
       "      <th>247</th>\n",
       "      <td>eBook Readers &amp; Accessories</td>\n",
       "      <td>4735.0</td>\n",
       "      <td>200</td>\n",
       "    </tr>\n",
       "  </tbody>\n",
       "</table>\n",
       "<p>248 rows × 3 columns</p>\n",
       "</div>"
      ],
      "text/plain": [
       "                                            Category   Sum Sales    Count\n",
       "0                      Abrasive & Finishing Products   2473551.5   160300\n",
       "1                             Accessories & Supplies  28835010.0   832100\n",
       "2                    Additive Manufacturing Products   4006343.5    94100\n",
       "3                             Arts & Crafts Supplies  17620588.5  1346550\n",
       "4                      Arts, Crafts & Sewing Storage   3305590.5   197550\n",
       "..                                               ...         ...      ...\n",
       "243                                  Women's Watches   2323568.0    68700\n",
       "244           Xbox 360 Games, Consoles & Accessories    538222.0    15400\n",
       "245           Xbox One Games, Consoles & Accessories   2068048.5    35900\n",
       "246  Xbox Series X & S Consoles, Games & Accessories   2486545.0    42300\n",
       "247                      eBook Readers & Accessories      4735.0      200\n",
       "\n",
       "[248 rows x 3 columns]"
      ]
     },
     "execution_count": 110,
     "metadata": {},
     "output_type": "execute_result"
    }
   ],
   "source": [
    "amazon_treemap.columns = ['Category', 'Sum Sales', 'Count']\n",
    "amazon_treemap.to_csv('data/Amazon/amazon_listing_category_counts.csv', index=False)\n",
    "amazon_treemap"
   ]
  },
  {
   "cell_type": "code",
   "execution_count": 103,
   "metadata": {},
   "outputs": [
    {
     "data": {
      "text/html": [
       "<div>\n",
       "<style scoped>\n",
       "    .dataframe tbody tr th:only-of-type {\n",
       "        vertical-align: middle;\n",
       "    }\n",
       "\n",
       "    .dataframe tbody tr th {\n",
       "        vertical-align: top;\n",
       "    }\n",
       "\n",
       "    .dataframe thead th {\n",
       "        text-align: right;\n",
       "    }\n",
       "</style>\n",
       "<table border=\"1\" class=\"dataframe\">\n",
       "  <thead>\n",
       "    <tr style=\"text-align: right;\">\n",
       "      <th></th>\n",
       "      <th>Category</th>\n",
       "      <th>Sum Sales</th>\n",
       "      <th>Count</th>\n",
       "    </tr>\n",
       "  </thead>\n",
       "  <tbody>\n",
       "    <tr>\n",
       "      <th>13</th>\n",
       "      <td>Baby</td>\n",
       "      <td>5777244.5</td>\n",
       "      <td>363350</td>\n",
       "    </tr>\n",
       "    <tr>\n",
       "      <th>100</th>\n",
       "      <td>Industrial &amp; Scientific</td>\n",
       "      <td>130196201.5</td>\n",
       "      <td>7093350</td>\n",
       "    </tr>\n",
       "    <tr>\n",
       "      <th>207</th>\n",
       "      <td>Sports &amp; Outdoors</td>\n",
       "      <td>76251321.5</td>\n",
       "      <td>2969650</td>\n",
       "    </tr>\n",
       "    <tr>\n",
       "      <th>228</th>\n",
       "      <td>Video Games</td>\n",
       "      <td>60846868.5</td>\n",
       "      <td>923450</td>\n",
       "    </tr>\n",
       "  </tbody>\n",
       "</table>\n",
       "</div>"
      ],
      "text/plain": [
       "                    Category    Sum Sales    Count\n",
       "13                      Baby    5777244.5   363350\n",
       "100  Industrial & Scientific  130196201.5  7093350\n",
       "207        Sports & Outdoors   76251321.5  2969650\n",
       "228              Video Games   60846868.5   923450"
      ]
     },
     "execution_count": 103,
     "metadata": {},
     "output_type": "execute_result"
    }
   ],
   "source": [
    "amazon_treemap = amazon_treemap[amazon_treemap['Category'].isin(treemap_data['Category'])]\n",
    "amazon_treemap"
   ]
  },
  {
   "cell_type": "code",
   "execution_count": 104,
   "metadata": {},
   "outputs": [
    {
     "data": {
      "text/html": [
       "<div>\n",
       "<style scoped>\n",
       "    .dataframe tbody tr th:only-of-type {\n",
       "        vertical-align: middle;\n",
       "    }\n",
       "\n",
       "    .dataframe tbody tr th {\n",
       "        vertical-align: top;\n",
       "    }\n",
       "\n",
       "    .dataframe thead th {\n",
       "        text-align: right;\n",
       "    }\n",
       "</style>\n",
       "<table border=\"1\" class=\"dataframe\">\n",
       "  <thead>\n",
       "    <tr style=\"text-align: right;\">\n",
       "      <th></th>\n",
       "      <th>Category</th>\n",
       "      <th>Sum Sales</th>\n",
       "      <th>Count</th>\n",
       "    </tr>\n",
       "  </thead>\n",
       "  <tbody>\n",
       "    <tr>\n",
       "      <th>13</th>\n",
       "      <td>Baby</td>\n",
       "      <td>5777244.5</td>\n",
       "      <td>363350</td>\n",
       "    </tr>\n",
       "    <tr>\n",
       "      <th>100</th>\n",
       "      <td>Industrial &amp; Scientific</td>\n",
       "      <td>130196201.5</td>\n",
       "      <td>7093350</td>\n",
       "    </tr>\n",
       "    <tr>\n",
       "      <th>207</th>\n",
       "      <td>Sports &amp; Outdoors</td>\n",
       "      <td>76251321.5</td>\n",
       "      <td>2969650</td>\n",
       "    </tr>\n",
       "    <tr>\n",
       "      <th>228</th>\n",
       "      <td>Video Games</td>\n",
       "      <td>60846868.5</td>\n",
       "      <td>923450</td>\n",
       "    </tr>\n",
       "  </tbody>\n",
       "</table>\n",
       "</div>"
      ],
      "text/plain": [
       "                    Category    Sum Sales    Count\n",
       "13                      Baby    5777244.5   363350\n",
       "100  Industrial & Scientific  130196201.5  7093350\n",
       "207        Sports & Outdoors   76251321.5  2969650\n",
       "228              Video Games   60846868.5   923450"
      ]
     },
     "execution_count": 104,
     "metadata": {},
     "output_type": "execute_result"
    }
   ],
   "source": [
    "amazon_treemap"
   ]
  },
  {
   "cell_type": "code",
   "execution_count": 119,
   "metadata": {},
   "outputs": [
    {
     "data": {
      "application/vnd.plotly.v1+json": {
       "config": {
        "plotlyServerURL": "https://plot.ly"
       },
       "data": [
        {
         "branchvalues": "total",
         "domain": {
          "x": [
           0,
           1
          ],
          "y": [
           0,
           1
          ]
         },
         "hovertemplate": "labels=%{label}<br>Sum Sales=%{value}<br>parent=%{parent}<br>id=%{id}<extra></extra>",
         "ids": [
          "Arts Crafts & Sewing",
          "Auto & Tires",
          "Baby",
          "Beauty",
          "Books",
          "Cell Phones",
          "Character Shop",
          "Clothing",
          "Collectibles",
          "Electronics",
          "Feature",
          "Food",
          "Health",
          "Home",
          "Home Improvement",
          "Household Essentials",
          "Industrial & Scientific",
          "Jewelry",
          "Music",
          "Musical Instruments",
          "Office Supplies",
          "Party & Occasions",
          "Patio & Garden",
          "Personal Care",
          "Pets",
          "Premium Beauty",
          "Seasonal",
          "Shop by Brand",
          "Shop by Movie",
          "Sports & Outdoors",
          "Toys",
          "Video Games",
          "Walmart for Business"
         ],
         "labels": [
          "Arts Crafts & Sewing",
          "Auto & Tires",
          "Baby",
          "Beauty",
          "Books",
          "Cell Phones",
          "Character Shop",
          "Clothing",
          "Collectibles",
          "Electronics",
          "Feature",
          "Food",
          "Health",
          "Home",
          "Home Improvement",
          "Household Essentials",
          "Industrial & Scientific",
          "Jewelry",
          "Music",
          "Musical Instruments",
          "Office Supplies",
          "Party & Occasions",
          "Patio & Garden",
          "Personal Care",
          "Pets",
          "Premium Beauty",
          "Seasonal",
          "Shop by Brand",
          "Shop by Movie",
          "Sports & Outdoors",
          "Toys",
          "Video Games",
          "Walmart for Business"
         ],
         "name": "",
         "parents": [
          "",
          "",
          "",
          "",
          "",
          "",
          "",
          "",
          "",
          "",
          "",
          "",
          "",
          "",
          "",
          "",
          "",
          "",
          "",
          "",
          "",
          "",
          "",
          "",
          "",
          "",
          "",
          "",
          "",
          "",
          "",
          "",
          ""
         ],
         "type": "treemap",
         "values": [
          92.44,
          3507,
          140458.14,
          12443.77,
          581.53,
          32,
          111.66,
          19436.84,
          325.98,
          3344.02,
          271.11,
          115532.4,
          134823.31,
          39244.24,
          4042.4900000000002,
          51105.47,
          1320.96,
          80.49,
          11.06,
          37.519999999999996,
          193.69,
          1470.48,
          25933.36,
          52060.56,
          4858.18,
          13958.84,
          1554.22,
          3981.53,
          72.6,
          1352017.88,
          140128.98,
          4373.32,
          112.21
         ]
        }
       ],
       "layout": {
        "legend": {
         "tracegroupgap": 0
        },
        "template": {
         "data": {
          "bar": [
           {
            "error_x": {
             "color": "#2a3f5f"
            },
            "error_y": {
             "color": "#2a3f5f"
            },
            "marker": {
             "line": {
              "color": "#E5ECF6",
              "width": 0.5
             },
             "pattern": {
              "fillmode": "overlay",
              "size": 10,
              "solidity": 0.2
             }
            },
            "type": "bar"
           }
          ],
          "barpolar": [
           {
            "marker": {
             "line": {
              "color": "#E5ECF6",
              "width": 0.5
             },
             "pattern": {
              "fillmode": "overlay",
              "size": 10,
              "solidity": 0.2
             }
            },
            "type": "barpolar"
           }
          ],
          "carpet": [
           {
            "aaxis": {
             "endlinecolor": "#2a3f5f",
             "gridcolor": "white",
             "linecolor": "white",
             "minorgridcolor": "white",
             "startlinecolor": "#2a3f5f"
            },
            "baxis": {
             "endlinecolor": "#2a3f5f",
             "gridcolor": "white",
             "linecolor": "white",
             "minorgridcolor": "white",
             "startlinecolor": "#2a3f5f"
            },
            "type": "carpet"
           }
          ],
          "choropleth": [
           {
            "colorbar": {
             "outlinewidth": 0,
             "ticks": ""
            },
            "type": "choropleth"
           }
          ],
          "contour": [
           {
            "colorbar": {
             "outlinewidth": 0,
             "ticks": ""
            },
            "colorscale": [
             [
              0,
              "#0d0887"
             ],
             [
              0.1111111111111111,
              "#46039f"
             ],
             [
              0.2222222222222222,
              "#7201a8"
             ],
             [
              0.3333333333333333,
              "#9c179e"
             ],
             [
              0.4444444444444444,
              "#bd3786"
             ],
             [
              0.5555555555555556,
              "#d8576b"
             ],
             [
              0.6666666666666666,
              "#ed7953"
             ],
             [
              0.7777777777777778,
              "#fb9f3a"
             ],
             [
              0.8888888888888888,
              "#fdca26"
             ],
             [
              1,
              "#f0f921"
             ]
            ],
            "type": "contour"
           }
          ],
          "contourcarpet": [
           {
            "colorbar": {
             "outlinewidth": 0,
             "ticks": ""
            },
            "type": "contourcarpet"
           }
          ],
          "heatmap": [
           {
            "colorbar": {
             "outlinewidth": 0,
             "ticks": ""
            },
            "colorscale": [
             [
              0,
              "#0d0887"
             ],
             [
              0.1111111111111111,
              "#46039f"
             ],
             [
              0.2222222222222222,
              "#7201a8"
             ],
             [
              0.3333333333333333,
              "#9c179e"
             ],
             [
              0.4444444444444444,
              "#bd3786"
             ],
             [
              0.5555555555555556,
              "#d8576b"
             ],
             [
              0.6666666666666666,
              "#ed7953"
             ],
             [
              0.7777777777777778,
              "#fb9f3a"
             ],
             [
              0.8888888888888888,
              "#fdca26"
             ],
             [
              1,
              "#f0f921"
             ]
            ],
            "type": "heatmap"
           }
          ],
          "heatmapgl": [
           {
            "colorbar": {
             "outlinewidth": 0,
             "ticks": ""
            },
            "colorscale": [
             [
              0,
              "#0d0887"
             ],
             [
              0.1111111111111111,
              "#46039f"
             ],
             [
              0.2222222222222222,
              "#7201a8"
             ],
             [
              0.3333333333333333,
              "#9c179e"
             ],
             [
              0.4444444444444444,
              "#bd3786"
             ],
             [
              0.5555555555555556,
              "#d8576b"
             ],
             [
              0.6666666666666666,
              "#ed7953"
             ],
             [
              0.7777777777777778,
              "#fb9f3a"
             ],
             [
              0.8888888888888888,
              "#fdca26"
             ],
             [
              1,
              "#f0f921"
             ]
            ],
            "type": "heatmapgl"
           }
          ],
          "histogram": [
           {
            "marker": {
             "pattern": {
              "fillmode": "overlay",
              "size": 10,
              "solidity": 0.2
             }
            },
            "type": "histogram"
           }
          ],
          "histogram2d": [
           {
            "colorbar": {
             "outlinewidth": 0,
             "ticks": ""
            },
            "colorscale": [
             [
              0,
              "#0d0887"
             ],
             [
              0.1111111111111111,
              "#46039f"
             ],
             [
              0.2222222222222222,
              "#7201a8"
             ],
             [
              0.3333333333333333,
              "#9c179e"
             ],
             [
              0.4444444444444444,
              "#bd3786"
             ],
             [
              0.5555555555555556,
              "#d8576b"
             ],
             [
              0.6666666666666666,
              "#ed7953"
             ],
             [
              0.7777777777777778,
              "#fb9f3a"
             ],
             [
              0.8888888888888888,
              "#fdca26"
             ],
             [
              1,
              "#f0f921"
             ]
            ],
            "type": "histogram2d"
           }
          ],
          "histogram2dcontour": [
           {
            "colorbar": {
             "outlinewidth": 0,
             "ticks": ""
            },
            "colorscale": [
             [
              0,
              "#0d0887"
             ],
             [
              0.1111111111111111,
              "#46039f"
             ],
             [
              0.2222222222222222,
              "#7201a8"
             ],
             [
              0.3333333333333333,
              "#9c179e"
             ],
             [
              0.4444444444444444,
              "#bd3786"
             ],
             [
              0.5555555555555556,
              "#d8576b"
             ],
             [
              0.6666666666666666,
              "#ed7953"
             ],
             [
              0.7777777777777778,
              "#fb9f3a"
             ],
             [
              0.8888888888888888,
              "#fdca26"
             ],
             [
              1,
              "#f0f921"
             ]
            ],
            "type": "histogram2dcontour"
           }
          ],
          "mesh3d": [
           {
            "colorbar": {
             "outlinewidth": 0,
             "ticks": ""
            },
            "type": "mesh3d"
           }
          ],
          "parcoords": [
           {
            "line": {
             "colorbar": {
              "outlinewidth": 0,
              "ticks": ""
             }
            },
            "type": "parcoords"
           }
          ],
          "pie": [
           {
            "automargin": true,
            "type": "pie"
           }
          ],
          "scatter": [
           {
            "fillpattern": {
             "fillmode": "overlay",
             "size": 10,
             "solidity": 0.2
            },
            "type": "scatter"
           }
          ],
          "scatter3d": [
           {
            "line": {
             "colorbar": {
              "outlinewidth": 0,
              "ticks": ""
             }
            },
            "marker": {
             "colorbar": {
              "outlinewidth": 0,
              "ticks": ""
             }
            },
            "type": "scatter3d"
           }
          ],
          "scattercarpet": [
           {
            "marker": {
             "colorbar": {
              "outlinewidth": 0,
              "ticks": ""
             }
            },
            "type": "scattercarpet"
           }
          ],
          "scattergeo": [
           {
            "marker": {
             "colorbar": {
              "outlinewidth": 0,
              "ticks": ""
             }
            },
            "type": "scattergeo"
           }
          ],
          "scattergl": [
           {
            "marker": {
             "colorbar": {
              "outlinewidth": 0,
              "ticks": ""
             }
            },
            "type": "scattergl"
           }
          ],
          "scattermapbox": [
           {
            "marker": {
             "colorbar": {
              "outlinewidth": 0,
              "ticks": ""
             }
            },
            "type": "scattermapbox"
           }
          ],
          "scatterpolar": [
           {
            "marker": {
             "colorbar": {
              "outlinewidth": 0,
              "ticks": ""
             }
            },
            "type": "scatterpolar"
           }
          ],
          "scatterpolargl": [
           {
            "marker": {
             "colorbar": {
              "outlinewidth": 0,
              "ticks": ""
             }
            },
            "type": "scatterpolargl"
           }
          ],
          "scatterternary": [
           {
            "marker": {
             "colorbar": {
              "outlinewidth": 0,
              "ticks": ""
             }
            },
            "type": "scatterternary"
           }
          ],
          "surface": [
           {
            "colorbar": {
             "outlinewidth": 0,
             "ticks": ""
            },
            "colorscale": [
             [
              0,
              "#0d0887"
             ],
             [
              0.1111111111111111,
              "#46039f"
             ],
             [
              0.2222222222222222,
              "#7201a8"
             ],
             [
              0.3333333333333333,
              "#9c179e"
             ],
             [
              0.4444444444444444,
              "#bd3786"
             ],
             [
              0.5555555555555556,
              "#d8576b"
             ],
             [
              0.6666666666666666,
              "#ed7953"
             ],
             [
              0.7777777777777778,
              "#fb9f3a"
             ],
             [
              0.8888888888888888,
              "#fdca26"
             ],
             [
              1,
              "#f0f921"
             ]
            ],
            "type": "surface"
           }
          ],
          "table": [
           {
            "cells": {
             "fill": {
              "color": "#EBF0F8"
             },
             "line": {
              "color": "white"
             }
            },
            "header": {
             "fill": {
              "color": "#C8D4E3"
             },
             "line": {
              "color": "white"
             }
            },
            "type": "table"
           }
          ]
         },
         "layout": {
          "annotationdefaults": {
           "arrowcolor": "#2a3f5f",
           "arrowhead": 0,
           "arrowwidth": 1
          },
          "autotypenumbers": "strict",
          "coloraxis": {
           "colorbar": {
            "outlinewidth": 0,
            "ticks": ""
           }
          },
          "colorscale": {
           "diverging": [
            [
             0,
             "#8e0152"
            ],
            [
             0.1,
             "#c51b7d"
            ],
            [
             0.2,
             "#de77ae"
            ],
            [
             0.3,
             "#f1b6da"
            ],
            [
             0.4,
             "#fde0ef"
            ],
            [
             0.5,
             "#f7f7f7"
            ],
            [
             0.6,
             "#e6f5d0"
            ],
            [
             0.7,
             "#b8e186"
            ],
            [
             0.8,
             "#7fbc41"
            ],
            [
             0.9,
             "#4d9221"
            ],
            [
             1,
             "#276419"
            ]
           ],
           "sequential": [
            [
             0,
             "#0d0887"
            ],
            [
             0.1111111111111111,
             "#46039f"
            ],
            [
             0.2222222222222222,
             "#7201a8"
            ],
            [
             0.3333333333333333,
             "#9c179e"
            ],
            [
             0.4444444444444444,
             "#bd3786"
            ],
            [
             0.5555555555555556,
             "#d8576b"
            ],
            [
             0.6666666666666666,
             "#ed7953"
            ],
            [
             0.7777777777777778,
             "#fb9f3a"
            ],
            [
             0.8888888888888888,
             "#fdca26"
            ],
            [
             1,
             "#f0f921"
            ]
           ],
           "sequentialminus": [
            [
             0,
             "#0d0887"
            ],
            [
             0.1111111111111111,
             "#46039f"
            ],
            [
             0.2222222222222222,
             "#7201a8"
            ],
            [
             0.3333333333333333,
             "#9c179e"
            ],
            [
             0.4444444444444444,
             "#bd3786"
            ],
            [
             0.5555555555555556,
             "#d8576b"
            ],
            [
             0.6666666666666666,
             "#ed7953"
            ],
            [
             0.7777777777777778,
             "#fb9f3a"
            ],
            [
             0.8888888888888888,
             "#fdca26"
            ],
            [
             1,
             "#f0f921"
            ]
           ]
          },
          "colorway": [
           "#636efa",
           "#EF553B",
           "#00cc96",
           "#ab63fa",
           "#FFA15A",
           "#19d3f3",
           "#FF6692",
           "#B6E880",
           "#FF97FF",
           "#FECB52"
          ],
          "font": {
           "color": "#2a3f5f"
          },
          "geo": {
           "bgcolor": "white",
           "lakecolor": "white",
           "landcolor": "#E5ECF6",
           "showlakes": true,
           "showland": true,
           "subunitcolor": "white"
          },
          "hoverlabel": {
           "align": "left"
          },
          "hovermode": "closest",
          "mapbox": {
           "style": "light"
          },
          "paper_bgcolor": "white",
          "plot_bgcolor": "#E5ECF6",
          "polar": {
           "angularaxis": {
            "gridcolor": "white",
            "linecolor": "white",
            "ticks": ""
           },
           "bgcolor": "#E5ECF6",
           "radialaxis": {
            "gridcolor": "white",
            "linecolor": "white",
            "ticks": ""
           }
          },
          "scene": {
           "xaxis": {
            "backgroundcolor": "#E5ECF6",
            "gridcolor": "white",
            "gridwidth": 2,
            "linecolor": "white",
            "showbackground": true,
            "ticks": "",
            "zerolinecolor": "white"
           },
           "yaxis": {
            "backgroundcolor": "#E5ECF6",
            "gridcolor": "white",
            "gridwidth": 2,
            "linecolor": "white",
            "showbackground": true,
            "ticks": "",
            "zerolinecolor": "white"
           },
           "zaxis": {
            "backgroundcolor": "#E5ECF6",
            "gridcolor": "white",
            "gridwidth": 2,
            "linecolor": "white",
            "showbackground": true,
            "ticks": "",
            "zerolinecolor": "white"
           }
          },
          "shapedefaults": {
           "line": {
            "color": "#2a3f5f"
           }
          },
          "ternary": {
           "aaxis": {
            "gridcolor": "white",
            "linecolor": "white",
            "ticks": ""
           },
           "baxis": {
            "gridcolor": "white",
            "linecolor": "white",
            "ticks": ""
           },
           "bgcolor": "#E5ECF6",
           "caxis": {
            "gridcolor": "white",
            "linecolor": "white",
            "ticks": ""
           }
          },
          "title": {
           "x": 0.05
          },
          "xaxis": {
           "automargin": true,
           "gridcolor": "white",
           "linecolor": "white",
           "ticks": "",
           "title": {
            "standoff": 15
           },
           "zerolinecolor": "white",
           "zerolinewidth": 2
          },
          "yaxis": {
           "automargin": true,
           "gridcolor": "white",
           "linecolor": "white",
           "ticks": "",
           "title": {
            "standoff": 15
           },
           "zerolinecolor": "white",
           "zerolinewidth": 2
          }
         }
        },
        "title": {
         "text": "Treemap of Sum Sales by Category"
        }
       }
      }
     },
     "metadata": {},
     "output_type": "display_data"
    }
   ],
   "source": [
    "import plotly.express as px\n",
    "walmart_data = treemap_data\n",
    "\n",
    "fig = px.treemap(\n",
    "    walmart_data,\n",
    "    path=[\"Category\"],\n",
    "    values=\"Sum Sales\",\n",
    "    title=\"Treemap of Sum Sales by Category\"\n",
    ")\n",
    "\n",
    "fig.show()\n"
   ]
  },
  {
   "cell_type": "code",
   "execution_count": 120,
   "metadata": {},
   "outputs": [
    {
     "data": {
      "application/vnd.plotly.v1+json": {
       "config": {
        "plotlyServerURL": "https://plot.ly"
       },
       "data": [
        {
         "branchvalues": "total",
         "domain": {
          "x": [
           0,
           1
          ],
          "y": [
           0,
           1
          ]
         },
         "hovertemplate": "labels=%{label}<br>Sum Sales=%{value}<br>parent=%{parent}<br>id=%{id}<extra></extra>",
         "ids": [
          "Abrasive & Finishing Products",
          "Accessories & Supplies",
          "Additive Manufacturing Products",
          "Arts & Crafts Supplies",
          "Arts, Crafts & Sewing Storage",
          "Automotive Enthusiast Merchandise",
          "Automotive Exterior Accessories",
          "Automotive Interior Accessories",
          "Automotive Paint & Paint Supplies",
          "Automotive Performance Parts & Accessories",
          "Automotive Replacement Parts",
          "Automotive Tires & Wheels",
          "Automotive Tools & Equipment",
          "Baby",
          "Baby & Child Care Products",
          "Baby & Toddler Feeding Supplies",
          "Baby & Toddler Toys",
          "Baby Activity & Entertainment Products",
          "Baby Boys' Clothing & Shoes",
          "Baby Care Products",
          "Baby Diapering Products",
          "Baby Gifts",
          "Baby Girls' Clothing & Shoes",
          "Baby Safety Products",
          "Baby Stationery",
          "Baby Strollers & Accessories",
          "Baby Travel Gear",
          "Backpacks",
          "Bath Products",
          "Beading & Jewelry Making",
          "Beauty & Personal Care",
          "Beauty Tools & Accessories",
          "Bedding",
          "Boys' Accessories",
          "Boys' Clothing",
          "Boys' Jewelry",
          "Boys' School Uniforms",
          "Boys' Shoes",
          "Boys' Watches",
          "Building Supplies",
          "Building Toys",
          "Camera & Photo",
          "Car Care",
          "Car Electronics & Accessories",
          "Cat Supplies",
          "Cell Phones & Accessories",
          "Child Safety Car Seats & Accessories",
          "Commercial Door Products",
          "Computer Components",
          "Computer External Components",
          "Computer Monitors",
          "Computer Networking",
          "Computer Servers",
          "Computers",
          "Computers & Tablets",
          "Craft & Hobby Fabric",
          "Craft Supplies & Materials",
          "Cutting Tools",
          "Data Storage",
          "Diet & Sports Nutrition",
          "Dog Supplies",
          "Dolls & Accessories",
          "Electrical Equipment",
          "Electronic Components",
          "Fabric Decorating",
          "Fasteners",
          "Filtration",
          "Finger Toys",
          "Fish & Aquatic Pets",
          "Food Service Equipment & Supplies",
          "Foot, Hand & Nail Care Products",
          "Furniture",
          "GPS & Navigation",
          "Games & Accessories",
          "Garment Bags",
          "Gift Cards",
          "Gift Wrapping Supplies",
          "Girls' Accessories",
          "Girls' Clothing",
          "Girls' Jewelry",
          "Girls' School Uniforms",
          "Girls' Shoes",
          "Girls' Watches",
          "Hair Care Products",
          "Hardware",
          "Headphones & Earbuds",
          "Health & Household",
          "Health Care Products",
          "Heating, Cooling & Air Quality",
          "Heavy Duty & Commercial Vehicle Equipment",
          "Home Appliances",
          "Home Audio & Theater Products",
          "Home Décor Products",
          "Home Lighting & Ceiling Fans",
          "Home Storage & Organization",
          "Home Use Medical Supplies & Equipment",
          "Horse Supplies",
          "Household Cleaning Supplies",
          "Household Supplies",
          "Hydraulics, Pneumatics & Plumbing",
          "Industrial & Scientific",
          "Industrial Adhesives, Sealants & Lubricants",
          "Industrial Hardware",
          "Industrial Materials",
          "Industrial Power & Hand Tools",
          "Ironing Products",
          "Janitorial & Sanitation Supplies",
          "Kids' Dress Up & Pretend Play",
          "Kids' Electronics",
          "Kids' Furniture",
          "Kids' Home Store",
          "Kids' Party Supplies",
          "Kids' Play Boats",
          "Kids' Play Buses",
          "Kids' Play Cars & Race Cars",
          "Kids' Play Tractors",
          "Kids' Play Trains & Trams",
          "Kids' Play Trucks",
          "Kitchen & Bath Fixtures",
          "Kitchen & Dining",
          "Knitting & Crochet Supplies",
          "Lab & Scientific Products",
          "Laptop Accessories",
          "Laptop Bags",
          "Learning & Education Toys",
          "Legacy Systems",
          "Light Bulbs",
          "Lighting & Ceiling Fans",
          "Lights, Bulbs & Indicators",
          "Luggage",
          "Luggage Sets",
          "Mac Games & Accessories",
          "Makeup",
          "Material Handling Products",
          "Measuring & Layout",
          "Men's Accessories",
          "Men's Clothing",
          "Men's Shoes",
          "Men's Watches",
          "Messenger Bags",
          "Motorcycle & Powersports",
          "Needlework Supplies",
          "Nintendo 3DS & 2DS Consoles, Games & Accessories",
          "Nintendo DS Games, Consoles & Accessories",
          "Nintendo Switch Consoles, Games & Accessories",
          "Novelty Toys & Amusements",
          "Nursery Furniture, Bedding & Décor",
          "Occupational Health & Safety Products",
          "Office Electronics",
          "Oils & Fluids",
          "Online Video Game Services",
          "Oral Care Products",
          "Outdoor Recreation",
          "PC Games & Accessories",
          "Packaging & Shipping Supplies",
          "Paint, Wall Treatments & Supplies",
          "Painting, Drawing & Art Supplies",
          "Party Decorations",
          "Party Supplies",
          "Perfumes & Fragrances",
          "Personal Care Products",
          "Pet Bird Supplies",
          "PlayStation 3 Games, Consoles & Accessories",
          "PlayStation 4 Games, Consoles & Accessories",
          "PlayStation 5 Consoles, Games & Accessories",
          "PlayStation Vita Games, Consoles & Accessories",
          "Portable Audio & Video",
          "Power Tools & Hand Tools",
          "Power Transmission Products",
          "Pregnancy & Maternity Products",
          "Printmaking Supplies",
          "Professional Dental Supplies",
          "Professional Medical Supplies",
          "Pumps & Plumbing Equipment",
          "Puppets & Puppet Theaters",
          "Puzzles",
          "RV Parts & Accessories",
          "Rain Umbrellas",
          "Reptiles & Amphibian Supplies",
          "Retail Store Fixtures & Equipment",
          "Safety & Security",
          "Science Education Supplies",
          "Scrapbooking & Stamping Supplies",
          "Seasonal Décor",
          "Security & Surveillance Equipment",
          "Sewing Products",
          "Sexual Wellness Products",
          "Shaving & Hair Removal Products",
          "Skin Care Products",
          "Slot Cars, Race Tracks & Accessories",
          "Small Animal Supplies",
          "Smart Home - Heating & Cooling",
          "Smart Home Thermostats - Compatibility Checker",
          "Smart Home: Home Entertainment",
          "Smart Home: Lawn and Garden",
          "Smart Home: Lighting",
          "Smart Home: New Smart Devices",
          "Smart Home: Other Solutions",
          "Smart Home: Plugs and Outlets",
          "Smart Home: Security Cameras and Systems",
          "Smart Home: Smart Locks and Entry",
          "Smart Home: Vacuums and Mops",
          "Smart Home: Voice Assistants and Hubs",
          "Smart Home: WiFi and Networking",
          "Sony PSP Games, Consoles & Accessories",
          "Sports & Fitness",
          "Sports & Outdoor Play Toys",
          "Sports & Outdoors",
          "Sports Nutrition Products",
          "Stationery & Gift Wrapping Supplies",
          "Stuffed Animals & Plush Toys",
          "Suitcases",
          "Tablet Accessories",
          "Tablet Replacement Parts",
          "Televisions & Video Products",
          "Test, Measure & Inspect",
          "Toilet Training Products",
          "Tools & Home Improvement",
          "Toy Figures & Playsets",
          "Toy Vehicle Playsets",
          "Toys & Games",
          "Travel Accessories",
          "Travel Duffel Bags",
          "Travel Tote Bags",
          "Tricycles, Scooters & Wagons",
          "Vacuum Cleaners & Floor Care",
          "Vehicle Electronics",
          "Video Game Consoles & Accessories",
          "Video Games",
          "Video Projectors",
          "Virtual Reality Hardware & Accessories",
          "Vision Products",
          "Wall Art",
          "Wearable Technology",
          "Welding & Soldering",
          "Wellness & Relaxation Products",
          "Wii Games, Consoles & Accessories",
          "Wii U Games, Consoles & Accessories",
          "Women's Accessories",
          "Women's Clothing",
          "Women's Handbags",
          "Women's Jewelry",
          "Women's Shoes",
          "Women's Watches",
          "Xbox 360 Games, Consoles & Accessories",
          "Xbox One Games, Consoles & Accessories",
          "Xbox Series X & S Consoles, Games & Accessories",
          "eBook Readers & Accessories"
         ],
         "labels": [
          "Abrasive & Finishing Products",
          "Accessories & Supplies",
          "Additive Manufacturing Products",
          "Arts & Crafts Supplies",
          "Arts, Crafts & Sewing Storage",
          "Automotive Enthusiast Merchandise",
          "Automotive Exterior Accessories",
          "Automotive Interior Accessories",
          "Automotive Paint & Paint Supplies",
          "Automotive Performance Parts & Accessories",
          "Automotive Replacement Parts",
          "Automotive Tires & Wheels",
          "Automotive Tools & Equipment",
          "Baby",
          "Baby & Child Care Products",
          "Baby & Toddler Feeding Supplies",
          "Baby & Toddler Toys",
          "Baby Activity & Entertainment Products",
          "Baby Boys' Clothing & Shoes",
          "Baby Care Products",
          "Baby Diapering Products",
          "Baby Gifts",
          "Baby Girls' Clothing & Shoes",
          "Baby Safety Products",
          "Baby Stationery",
          "Baby Strollers & Accessories",
          "Baby Travel Gear",
          "Backpacks",
          "Bath Products",
          "Beading & Jewelry Making",
          "Beauty & Personal Care",
          "Beauty Tools & Accessories",
          "Bedding",
          "Boys' Accessories",
          "Boys' Clothing",
          "Boys' Jewelry",
          "Boys' School Uniforms",
          "Boys' Shoes",
          "Boys' Watches",
          "Building Supplies",
          "Building Toys",
          "Camera & Photo",
          "Car Care",
          "Car Electronics & Accessories",
          "Cat Supplies",
          "Cell Phones & Accessories",
          "Child Safety Car Seats & Accessories",
          "Commercial Door Products",
          "Computer Components",
          "Computer External Components",
          "Computer Monitors",
          "Computer Networking",
          "Computer Servers",
          "Computers",
          "Computers & Tablets",
          "Craft & Hobby Fabric",
          "Craft Supplies & Materials",
          "Cutting Tools",
          "Data Storage",
          "Diet & Sports Nutrition",
          "Dog Supplies",
          "Dolls & Accessories",
          "Electrical Equipment",
          "Electronic Components",
          "Fabric Decorating",
          "Fasteners",
          "Filtration",
          "Finger Toys",
          "Fish & Aquatic Pets",
          "Food Service Equipment & Supplies",
          "Foot, Hand & Nail Care Products",
          "Furniture",
          "GPS & Navigation",
          "Games & Accessories",
          "Garment Bags",
          "Gift Cards",
          "Gift Wrapping Supplies",
          "Girls' Accessories",
          "Girls' Clothing",
          "Girls' Jewelry",
          "Girls' School Uniforms",
          "Girls' Shoes",
          "Girls' Watches",
          "Hair Care Products",
          "Hardware",
          "Headphones & Earbuds",
          "Health & Household",
          "Health Care Products",
          "Heating, Cooling & Air Quality",
          "Heavy Duty & Commercial Vehicle Equipment",
          "Home Appliances",
          "Home Audio & Theater Products",
          "Home Décor Products",
          "Home Lighting & Ceiling Fans",
          "Home Storage & Organization",
          "Home Use Medical Supplies & Equipment",
          "Horse Supplies",
          "Household Cleaning Supplies",
          "Household Supplies",
          "Hydraulics, Pneumatics & Plumbing",
          "Industrial & Scientific",
          "Industrial Adhesives, Sealants & Lubricants",
          "Industrial Hardware",
          "Industrial Materials",
          "Industrial Power & Hand Tools",
          "Ironing Products",
          "Janitorial & Sanitation Supplies",
          "Kids' Dress Up & Pretend Play",
          "Kids' Electronics",
          "Kids' Furniture",
          "Kids' Home Store",
          "Kids' Party Supplies",
          "Kids' Play Boats",
          "Kids' Play Buses",
          "Kids' Play Cars & Race Cars",
          "Kids' Play Tractors",
          "Kids' Play Trains & Trams",
          "Kids' Play Trucks",
          "Kitchen & Bath Fixtures",
          "Kitchen & Dining",
          "Knitting & Crochet Supplies",
          "Lab & Scientific Products",
          "Laptop Accessories",
          "Laptop Bags",
          "Learning & Education Toys",
          "Legacy Systems",
          "Light Bulbs",
          "Lighting & Ceiling Fans",
          "Lights, Bulbs & Indicators",
          "Luggage",
          "Luggage Sets",
          "Mac Games & Accessories",
          "Makeup",
          "Material Handling Products",
          "Measuring & Layout",
          "Men's Accessories",
          "Men's Clothing",
          "Men's Shoes",
          "Men's Watches",
          "Messenger Bags",
          "Motorcycle & Powersports",
          "Needlework Supplies",
          "Nintendo 3DS & 2DS Consoles, Games & Accessories",
          "Nintendo DS Games, Consoles & Accessories",
          "Nintendo Switch Consoles, Games & Accessories",
          "Novelty Toys & Amusements",
          "Nursery Furniture, Bedding & Décor",
          "Occupational Health & Safety Products",
          "Office Electronics",
          "Oils & Fluids",
          "Online Video Game Services",
          "Oral Care Products",
          "Outdoor Recreation",
          "PC Games & Accessories",
          "Packaging & Shipping Supplies",
          "Paint, Wall Treatments & Supplies",
          "Painting, Drawing & Art Supplies",
          "Party Decorations",
          "Party Supplies",
          "Perfumes & Fragrances",
          "Personal Care Products",
          "Pet Bird Supplies",
          "PlayStation 3 Games, Consoles & Accessories",
          "PlayStation 4 Games, Consoles & Accessories",
          "PlayStation 5 Consoles, Games & Accessories",
          "PlayStation Vita Games, Consoles & Accessories",
          "Portable Audio & Video",
          "Power Tools & Hand Tools",
          "Power Transmission Products",
          "Pregnancy & Maternity Products",
          "Printmaking Supplies",
          "Professional Dental Supplies",
          "Professional Medical Supplies",
          "Pumps & Plumbing Equipment",
          "Puppets & Puppet Theaters",
          "Puzzles",
          "RV Parts & Accessories",
          "Rain Umbrellas",
          "Reptiles & Amphibian Supplies",
          "Retail Store Fixtures & Equipment",
          "Safety & Security",
          "Science Education Supplies",
          "Scrapbooking & Stamping Supplies",
          "Seasonal Décor",
          "Security & Surveillance Equipment",
          "Sewing Products",
          "Sexual Wellness Products",
          "Shaving & Hair Removal Products",
          "Skin Care Products",
          "Slot Cars, Race Tracks & Accessories",
          "Small Animal Supplies",
          "Smart Home - Heating & Cooling",
          "Smart Home Thermostats - Compatibility Checker",
          "Smart Home: Home Entertainment",
          "Smart Home: Lawn and Garden",
          "Smart Home: Lighting",
          "Smart Home: New Smart Devices",
          "Smart Home: Other Solutions",
          "Smart Home: Plugs and Outlets",
          "Smart Home: Security Cameras and Systems",
          "Smart Home: Smart Locks and Entry",
          "Smart Home: Vacuums and Mops",
          "Smart Home: Voice Assistants and Hubs",
          "Smart Home: WiFi and Networking",
          "Sony PSP Games, Consoles & Accessories",
          "Sports & Fitness",
          "Sports & Outdoor Play Toys",
          "Sports & Outdoors",
          "Sports Nutrition Products",
          "Stationery & Gift Wrapping Supplies",
          "Stuffed Animals & Plush Toys",
          "Suitcases",
          "Tablet Accessories",
          "Tablet Replacement Parts",
          "Televisions & Video Products",
          "Test, Measure & Inspect",
          "Toilet Training Products",
          "Tools & Home Improvement",
          "Toy Figures & Playsets",
          "Toy Vehicle Playsets",
          "Toys & Games",
          "Travel Accessories",
          "Travel Duffel Bags",
          "Travel Tote Bags",
          "Tricycles, Scooters & Wagons",
          "Vacuum Cleaners & Floor Care",
          "Vehicle Electronics",
          "Video Game Consoles & Accessories",
          "Video Games",
          "Video Projectors",
          "Virtual Reality Hardware & Accessories",
          "Vision Products",
          "Wall Art",
          "Wearable Technology",
          "Welding & Soldering",
          "Wellness & Relaxation Products",
          "Wii Games, Consoles & Accessories",
          "Wii U Games, Consoles & Accessories",
          "Women's Accessories",
          "Women's Clothing",
          "Women's Handbags",
          "Women's Jewelry",
          "Women's Shoes",
          "Women's Watches",
          "Xbox 360 Games, Consoles & Accessories",
          "Xbox One Games, Consoles & Accessories",
          "Xbox Series X & S Consoles, Games & Accessories",
          "eBook Readers & Accessories"
         ],
         "name": "",
         "parents": [
          "",
          "",
          "",
          "",
          "",
          "",
          "",
          "",
          "",
          "",
          "",
          "",
          "",
          "",
          "",
          "",
          "",
          "",
          "",
          "",
          "",
          "",
          "",
          "",
          "",
          "",
          "",
          "",
          "",
          "",
          "",
          "",
          "",
          "",
          "",
          "",
          "",
          "",
          "",
          "",
          "",
          "",
          "",
          "",
          "",
          "",
          "",
          "",
          "",
          "",
          "",
          "",
          "",
          "",
          "",
          "",
          "",
          "",
          "",
          "",
          "",
          "",
          "",
          "",
          "",
          "",
          "",
          "",
          "",
          "",
          "",
          "",
          "",
          "",
          "",
          "",
          "",
          "",
          "",
          "",
          "",
          "",
          "",
          "",
          "",
          "",
          "",
          "",
          "",
          "",
          "",
          "",
          "",
          "",
          "",
          "",
          "",
          "",
          "",
          "",
          "",
          "",
          "",
          "",
          "",
          "",
          "",
          "",
          "",
          "",
          "",
          "",
          "",
          "",
          "",
          "",
          "",
          "",
          "",
          "",
          "",
          "",
          "",
          "",
          "",
          "",
          "",
          "",
          "",
          "",
          "",
          "",
          "",
          "",
          "",
          "",
          "",
          "",
          "",
          "",
          "",
          "",
          "",
          "",
          "",
          "",
          "",
          "",
          "",
          "",
          "",
          "",
          "",
          "",
          "",
          "",
          "",
          "",
          "",
          "",
          "",
          "",
          "",
          "",
          "",
          "",
          "",
          "",
          "",
          "",
          "",
          "",
          "",
          "",
          "",
          "",
          "",
          "",
          "",
          "",
          "",
          "",
          "",
          "",
          "",
          "",
          "",
          "",
          "",
          "",
          "",
          "",
          "",
          "",
          "",
          "",
          "",
          "",
          "",
          "",
          "",
          "",
          "",
          "",
          "",
          "",
          "",
          "",
          "",
          "",
          "",
          "",
          "",
          "",
          "",
          "",
          "",
          "",
          "",
          "",
          "",
          "",
          "",
          "",
          "",
          "",
          "",
          "",
          "",
          "",
          "",
          "",
          "",
          "",
          "",
          "",
          "",
          "",
          "",
          "",
          "",
          "",
          "",
          "",
          "",
          "",
          "",
          ""
         ],
         "type": "treemap",
         "values": [
          2473551.5,
          28835010,
          4006343.5,
          17620588.5,
          3305590.5,
          19130,
          25094744.5,
          29548303,
          360495,
          801960,
          36571071.5,
          23680793.5,
          74697831.5,
          5777244.5,
          18624251,
          48501263.5,
          26180315.5,
          16173013,
          5924418.5,
          18146140,
          16476780,
          2550915.5,
          1550107,
          11443436,
          67629.5,
          13589497.5,
          8260144,
          4653968.5,
          49000059,
          15210477.5,
          4215630.5,
          38934073.5,
          86802691,
          699275,
          6125131,
          716976.5,
          27519,
          1208311,
          353567.5,
          13744663,
          11982723.5,
          4037612.5,
          14308917,
          495381,
          44449503.5,
          1295213.5,
          23303262,
          502853,
          731662.5,
          3199,
          68081,
          178486.5,
          0,
          16583341.5,
          22122,
          730918.5,
          36640022.5,
          4562325.5,
          8088.5,
          53917004.5,
          102992041,
          14317929,
          9471202.5,
          5249160.5,
          872477.5,
          3504059.5,
          5086989,
          149110,
          7661734.5,
          38403639.5,
          40761324.5,
          55015382.5,
          572936,
          34820345.5,
          43696.5,
          0,
          8853697.5,
          664480.5,
          6758102.5,
          3092162,
          107021.5,
          2627393,
          176220,
          152940697.5,
          5307483,
          1717932.5,
          93895499,
          68067197.5,
          74840634,
          302604.5,
          59671251.5,
          1372450.5,
          74805270.5,
          2709693,
          138604708.5,
          39336017,
          672162.5,
          120567961.5,
          66198883.5,
          1453559.5,
          130196201.5,
          4762723.5,
          1861878,
          603241,
          47813209.5,
          12609725,
          37858959,
          18537568,
          3096371,
          10829886.5,
          6806327.5,
          6095674.5,
          94514,
          212949,
          2320172,
          381951,
          248717,
          1608657,
          13989661.5,
          267189588,
          3880455.5,
          7494633,
          4736751,
          791491,
          10244123.5,
          249579,
          486622.5,
          10610583,
          17509203.5,
          8525669,
          733081,
          177150,
          48302874,
          6455435,
          8022097.5,
          23059048.5,
          30959451.5,
          12000991,
          7430289.5,
          526503,
          12160929,
          1928572,
          24816.5,
          22655,
          9221682,
          10390393,
          28978579.5,
          5110211,
          95038114,
          1510870.5,
          8946,
          61471957.5,
          43753643,
          1981458,
          3947942,
          6019947,
          31814202,
          15039225.5,
          31423307,
          2389962,
          60497389.5,
          1700315.5,
          41373,
          6942214.5,
          950535,
          121652,
          4171977,
          35880734.5,
          496578.5,
          7723706,
          7244766,
          5710796,
          6229715,
          1649816.5,
          727694,
          8685167.5,
          12979277,
          3000117,
          1578549,
          5454686.5,
          46180336.5,
          435143,
          8775908,
          17098628.5,
          565647,
          20580785.5,
          28236990.5,
          54800154,
          119996888.5,
          1244389,
          2729957.5,
          2138164.5,
          0,
          27799,
          1929919.5,
          11790,
          1066845,
          4126278,
          10603,
          6998,
          0,
          3461794.5,
          29000,
          0,
          13322.5,
          92678625,
          31909310,
          76251321.5,
          90938064,
          1430377,
          7211486,
          1965995.5,
          173479.5,
          0,
          2541146.5,
          6091571,
          4800157,
          55595986,
          20219792.5,
          1588055.5,
          135394508.5,
          9838086.5,
          2707386.5,
          1039946,
          6564385.5,
          82695750,
          7174711.5,
          78701.5,
          60846868.5,
          573839,
          109622.5,
          7658866.5,
          3098301,
          1220792.5,
          3139843.5,
          49533504,
          69214,
          359316.5,
          16315214,
          67695103,
          15659656.5,
          25599506.5,
          16323339.5,
          2323568,
          538222,
          2068048.5,
          2486545,
          4735
         ]
        }
       ],
       "layout": {
        "legend": {
         "tracegroupgap": 0
        },
        "template": {
         "data": {
          "bar": [
           {
            "error_x": {
             "color": "#2a3f5f"
            },
            "error_y": {
             "color": "#2a3f5f"
            },
            "marker": {
             "line": {
              "color": "#E5ECF6",
              "width": 0.5
             },
             "pattern": {
              "fillmode": "overlay",
              "size": 10,
              "solidity": 0.2
             }
            },
            "type": "bar"
           }
          ],
          "barpolar": [
           {
            "marker": {
             "line": {
              "color": "#E5ECF6",
              "width": 0.5
             },
             "pattern": {
              "fillmode": "overlay",
              "size": 10,
              "solidity": 0.2
             }
            },
            "type": "barpolar"
           }
          ],
          "carpet": [
           {
            "aaxis": {
             "endlinecolor": "#2a3f5f",
             "gridcolor": "white",
             "linecolor": "white",
             "minorgridcolor": "white",
             "startlinecolor": "#2a3f5f"
            },
            "baxis": {
             "endlinecolor": "#2a3f5f",
             "gridcolor": "white",
             "linecolor": "white",
             "minorgridcolor": "white",
             "startlinecolor": "#2a3f5f"
            },
            "type": "carpet"
           }
          ],
          "choropleth": [
           {
            "colorbar": {
             "outlinewidth": 0,
             "ticks": ""
            },
            "type": "choropleth"
           }
          ],
          "contour": [
           {
            "colorbar": {
             "outlinewidth": 0,
             "ticks": ""
            },
            "colorscale": [
             [
              0,
              "#0d0887"
             ],
             [
              0.1111111111111111,
              "#46039f"
             ],
             [
              0.2222222222222222,
              "#7201a8"
             ],
             [
              0.3333333333333333,
              "#9c179e"
             ],
             [
              0.4444444444444444,
              "#bd3786"
             ],
             [
              0.5555555555555556,
              "#d8576b"
             ],
             [
              0.6666666666666666,
              "#ed7953"
             ],
             [
              0.7777777777777778,
              "#fb9f3a"
             ],
             [
              0.8888888888888888,
              "#fdca26"
             ],
             [
              1,
              "#f0f921"
             ]
            ],
            "type": "contour"
           }
          ],
          "contourcarpet": [
           {
            "colorbar": {
             "outlinewidth": 0,
             "ticks": ""
            },
            "type": "contourcarpet"
           }
          ],
          "heatmap": [
           {
            "colorbar": {
             "outlinewidth": 0,
             "ticks": ""
            },
            "colorscale": [
             [
              0,
              "#0d0887"
             ],
             [
              0.1111111111111111,
              "#46039f"
             ],
             [
              0.2222222222222222,
              "#7201a8"
             ],
             [
              0.3333333333333333,
              "#9c179e"
             ],
             [
              0.4444444444444444,
              "#bd3786"
             ],
             [
              0.5555555555555556,
              "#d8576b"
             ],
             [
              0.6666666666666666,
              "#ed7953"
             ],
             [
              0.7777777777777778,
              "#fb9f3a"
             ],
             [
              0.8888888888888888,
              "#fdca26"
             ],
             [
              1,
              "#f0f921"
             ]
            ],
            "type": "heatmap"
           }
          ],
          "heatmapgl": [
           {
            "colorbar": {
             "outlinewidth": 0,
             "ticks": ""
            },
            "colorscale": [
             [
              0,
              "#0d0887"
             ],
             [
              0.1111111111111111,
              "#46039f"
             ],
             [
              0.2222222222222222,
              "#7201a8"
             ],
             [
              0.3333333333333333,
              "#9c179e"
             ],
             [
              0.4444444444444444,
              "#bd3786"
             ],
             [
              0.5555555555555556,
              "#d8576b"
             ],
             [
              0.6666666666666666,
              "#ed7953"
             ],
             [
              0.7777777777777778,
              "#fb9f3a"
             ],
             [
              0.8888888888888888,
              "#fdca26"
             ],
             [
              1,
              "#f0f921"
             ]
            ],
            "type": "heatmapgl"
           }
          ],
          "histogram": [
           {
            "marker": {
             "pattern": {
              "fillmode": "overlay",
              "size": 10,
              "solidity": 0.2
             }
            },
            "type": "histogram"
           }
          ],
          "histogram2d": [
           {
            "colorbar": {
             "outlinewidth": 0,
             "ticks": ""
            },
            "colorscale": [
             [
              0,
              "#0d0887"
             ],
             [
              0.1111111111111111,
              "#46039f"
             ],
             [
              0.2222222222222222,
              "#7201a8"
             ],
             [
              0.3333333333333333,
              "#9c179e"
             ],
             [
              0.4444444444444444,
              "#bd3786"
             ],
             [
              0.5555555555555556,
              "#d8576b"
             ],
             [
              0.6666666666666666,
              "#ed7953"
             ],
             [
              0.7777777777777778,
              "#fb9f3a"
             ],
             [
              0.8888888888888888,
              "#fdca26"
             ],
             [
              1,
              "#f0f921"
             ]
            ],
            "type": "histogram2d"
           }
          ],
          "histogram2dcontour": [
           {
            "colorbar": {
             "outlinewidth": 0,
             "ticks": ""
            },
            "colorscale": [
             [
              0,
              "#0d0887"
             ],
             [
              0.1111111111111111,
              "#46039f"
             ],
             [
              0.2222222222222222,
              "#7201a8"
             ],
             [
              0.3333333333333333,
              "#9c179e"
             ],
             [
              0.4444444444444444,
              "#bd3786"
             ],
             [
              0.5555555555555556,
              "#d8576b"
             ],
             [
              0.6666666666666666,
              "#ed7953"
             ],
             [
              0.7777777777777778,
              "#fb9f3a"
             ],
             [
              0.8888888888888888,
              "#fdca26"
             ],
             [
              1,
              "#f0f921"
             ]
            ],
            "type": "histogram2dcontour"
           }
          ],
          "mesh3d": [
           {
            "colorbar": {
             "outlinewidth": 0,
             "ticks": ""
            },
            "type": "mesh3d"
           }
          ],
          "parcoords": [
           {
            "line": {
             "colorbar": {
              "outlinewidth": 0,
              "ticks": ""
             }
            },
            "type": "parcoords"
           }
          ],
          "pie": [
           {
            "automargin": true,
            "type": "pie"
           }
          ],
          "scatter": [
           {
            "fillpattern": {
             "fillmode": "overlay",
             "size": 10,
             "solidity": 0.2
            },
            "type": "scatter"
           }
          ],
          "scatter3d": [
           {
            "line": {
             "colorbar": {
              "outlinewidth": 0,
              "ticks": ""
             }
            },
            "marker": {
             "colorbar": {
              "outlinewidth": 0,
              "ticks": ""
             }
            },
            "type": "scatter3d"
           }
          ],
          "scattercarpet": [
           {
            "marker": {
             "colorbar": {
              "outlinewidth": 0,
              "ticks": ""
             }
            },
            "type": "scattercarpet"
           }
          ],
          "scattergeo": [
           {
            "marker": {
             "colorbar": {
              "outlinewidth": 0,
              "ticks": ""
             }
            },
            "type": "scattergeo"
           }
          ],
          "scattergl": [
           {
            "marker": {
             "colorbar": {
              "outlinewidth": 0,
              "ticks": ""
             }
            },
            "type": "scattergl"
           }
          ],
          "scattermapbox": [
           {
            "marker": {
             "colorbar": {
              "outlinewidth": 0,
              "ticks": ""
             }
            },
            "type": "scattermapbox"
           }
          ],
          "scatterpolar": [
           {
            "marker": {
             "colorbar": {
              "outlinewidth": 0,
              "ticks": ""
             }
            },
            "type": "scatterpolar"
           }
          ],
          "scatterpolargl": [
           {
            "marker": {
             "colorbar": {
              "outlinewidth": 0,
              "ticks": ""
             }
            },
            "type": "scatterpolargl"
           }
          ],
          "scatterternary": [
           {
            "marker": {
             "colorbar": {
              "outlinewidth": 0,
              "ticks": ""
             }
            },
            "type": "scatterternary"
           }
          ],
          "surface": [
           {
            "colorbar": {
             "outlinewidth": 0,
             "ticks": ""
            },
            "colorscale": [
             [
              0,
              "#0d0887"
             ],
             [
              0.1111111111111111,
              "#46039f"
             ],
             [
              0.2222222222222222,
              "#7201a8"
             ],
             [
              0.3333333333333333,
              "#9c179e"
             ],
             [
              0.4444444444444444,
              "#bd3786"
             ],
             [
              0.5555555555555556,
              "#d8576b"
             ],
             [
              0.6666666666666666,
              "#ed7953"
             ],
             [
              0.7777777777777778,
              "#fb9f3a"
             ],
             [
              0.8888888888888888,
              "#fdca26"
             ],
             [
              1,
              "#f0f921"
             ]
            ],
            "type": "surface"
           }
          ],
          "table": [
           {
            "cells": {
             "fill": {
              "color": "#EBF0F8"
             },
             "line": {
              "color": "white"
             }
            },
            "header": {
             "fill": {
              "color": "#C8D4E3"
             },
             "line": {
              "color": "white"
             }
            },
            "type": "table"
           }
          ]
         },
         "layout": {
          "annotationdefaults": {
           "arrowcolor": "#2a3f5f",
           "arrowhead": 0,
           "arrowwidth": 1
          },
          "autotypenumbers": "strict",
          "coloraxis": {
           "colorbar": {
            "outlinewidth": 0,
            "ticks": ""
           }
          },
          "colorscale": {
           "diverging": [
            [
             0,
             "#8e0152"
            ],
            [
             0.1,
             "#c51b7d"
            ],
            [
             0.2,
             "#de77ae"
            ],
            [
             0.3,
             "#f1b6da"
            ],
            [
             0.4,
             "#fde0ef"
            ],
            [
             0.5,
             "#f7f7f7"
            ],
            [
             0.6,
             "#e6f5d0"
            ],
            [
             0.7,
             "#b8e186"
            ],
            [
             0.8,
             "#7fbc41"
            ],
            [
             0.9,
             "#4d9221"
            ],
            [
             1,
             "#276419"
            ]
           ],
           "sequential": [
            [
             0,
             "#0d0887"
            ],
            [
             0.1111111111111111,
             "#46039f"
            ],
            [
             0.2222222222222222,
             "#7201a8"
            ],
            [
             0.3333333333333333,
             "#9c179e"
            ],
            [
             0.4444444444444444,
             "#bd3786"
            ],
            [
             0.5555555555555556,
             "#d8576b"
            ],
            [
             0.6666666666666666,
             "#ed7953"
            ],
            [
             0.7777777777777778,
             "#fb9f3a"
            ],
            [
             0.8888888888888888,
             "#fdca26"
            ],
            [
             1,
             "#f0f921"
            ]
           ],
           "sequentialminus": [
            [
             0,
             "#0d0887"
            ],
            [
             0.1111111111111111,
             "#46039f"
            ],
            [
             0.2222222222222222,
             "#7201a8"
            ],
            [
             0.3333333333333333,
             "#9c179e"
            ],
            [
             0.4444444444444444,
             "#bd3786"
            ],
            [
             0.5555555555555556,
             "#d8576b"
            ],
            [
             0.6666666666666666,
             "#ed7953"
            ],
            [
             0.7777777777777778,
             "#fb9f3a"
            ],
            [
             0.8888888888888888,
             "#fdca26"
            ],
            [
             1,
             "#f0f921"
            ]
           ]
          },
          "colorway": [
           "#636efa",
           "#EF553B",
           "#00cc96",
           "#ab63fa",
           "#FFA15A",
           "#19d3f3",
           "#FF6692",
           "#B6E880",
           "#FF97FF",
           "#FECB52"
          ],
          "font": {
           "color": "#2a3f5f"
          },
          "geo": {
           "bgcolor": "white",
           "lakecolor": "white",
           "landcolor": "#E5ECF6",
           "showlakes": true,
           "showland": true,
           "subunitcolor": "white"
          },
          "hoverlabel": {
           "align": "left"
          },
          "hovermode": "closest",
          "mapbox": {
           "style": "light"
          },
          "paper_bgcolor": "white",
          "plot_bgcolor": "#E5ECF6",
          "polar": {
           "angularaxis": {
            "gridcolor": "white",
            "linecolor": "white",
            "ticks": ""
           },
           "bgcolor": "#E5ECF6",
           "radialaxis": {
            "gridcolor": "white",
            "linecolor": "white",
            "ticks": ""
           }
          },
          "scene": {
           "xaxis": {
            "backgroundcolor": "#E5ECF6",
            "gridcolor": "white",
            "gridwidth": 2,
            "linecolor": "white",
            "showbackground": true,
            "ticks": "",
            "zerolinecolor": "white"
           },
           "yaxis": {
            "backgroundcolor": "#E5ECF6",
            "gridcolor": "white",
            "gridwidth": 2,
            "linecolor": "white",
            "showbackground": true,
            "ticks": "",
            "zerolinecolor": "white"
           },
           "zaxis": {
            "backgroundcolor": "#E5ECF6",
            "gridcolor": "white",
            "gridwidth": 2,
            "linecolor": "white",
            "showbackground": true,
            "ticks": "",
            "zerolinecolor": "white"
           }
          },
          "shapedefaults": {
           "line": {
            "color": "#2a3f5f"
           }
          },
          "ternary": {
           "aaxis": {
            "gridcolor": "white",
            "linecolor": "white",
            "ticks": ""
           },
           "baxis": {
            "gridcolor": "white",
            "linecolor": "white",
            "ticks": ""
           },
           "bgcolor": "#E5ECF6",
           "caxis": {
            "gridcolor": "white",
            "linecolor": "white",
            "ticks": ""
           }
          },
          "title": {
           "x": 0.05
          },
          "xaxis": {
           "automargin": true,
           "gridcolor": "white",
           "linecolor": "white",
           "ticks": "",
           "title": {
            "standoff": 15
           },
           "zerolinecolor": "white",
           "zerolinewidth": 2
          },
          "yaxis": {
           "automargin": true,
           "gridcolor": "white",
           "linecolor": "white",
           "ticks": "",
           "title": {
            "standoff": 15
           },
           "zerolinecolor": "white",
           "zerolinewidth": 2
          }
         }
        },
        "title": {
         "text": "Treemap of Sum Sales by Category"
        }
       }
      }
     },
     "metadata": {},
     "output_type": "display_data"
    }
   ],
   "source": [
    "amazon_data = amazon_treemap\n",
    "\n",
    "fig = px.treemap(\n",
    "    amazon_data,\n",
    "    path=[\"Category\"],\n",
    "    values=\"Sum Sales\",\n",
    "    title=\"Treemap of Sum Sales by Category\"\n",
    ")\n",
    "\n",
    "fig.show()\n"
   ]
  },
  {
   "cell_type": "code",
   "execution_count": 121,
   "metadata": {},
   "outputs": [
    {
     "data": {
      "text/plain": [
       "product_line\n",
       "Fashion accessories       178\n",
       "Food and beverages        174\n",
       "Electronic accessories    170\n",
       "Sports and travel         166\n",
       "Home and lifestyle        160\n",
       "Health and beauty         152\n",
       "Name: count, dtype: int64"
      ]
     },
     "execution_count": 121,
     "metadata": {},
     "output_type": "execute_result"
    }
   ],
   "source": [
    "df = pd.read_csv('data/Walmart/WalmartSQL.csv')\n",
    "df['product_line'].value_counts()"
   ]
  },
  {
   "cell_type": "code",
   "execution_count": null,
   "metadata": {},
   "outputs": [],
   "source": []
  }
 ],
 "metadata": {
  "kernelspec": {
   "display_name": "Python 3",
   "language": "python",
   "name": "python3"
  },
  "language_info": {
   "codemirror_mode": {
    "name": "ipython",
    "version": 3
   },
   "file_extension": ".py",
   "mimetype": "text/x-python",
   "name": "python",
   "nbconvert_exporter": "python",
   "pygments_lexer": "ipython3",
   "version": "3.12.6"
  }
 },
 "nbformat": 4,
 "nbformat_minor": 2
}
